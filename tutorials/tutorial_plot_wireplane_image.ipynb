{
 "cells": [
  {
   "cell_type": "code",
   "execution_count": null,
   "id": "3498b138",
   "metadata": {},
   "outputs": [],
   "source": [
    "import os,sys\n",
    "import ROOT as rt\n",
    "from larcv import larcv\n",
    "import lardly\n",
    "import plotly as pl\n",
    "import plotly.graph_objects as go\n",
    "%load_ext autoreload"
   ]
  },
  {
   "cell_type": "markdown",
   "id": "38b382f3",
   "metadata": {},
   "source": [
    "Below we specify the location of the file we want to use.\n",
    "\n",
    "For a list of example files, refer to this [list](https://github.com/NuTufts/icdl/wiki/Locations-of-Tutorial-Files)."
   ]
  },
  {
   "cell_type": "code",
   "execution_count": null,
   "id": "6fe22d1f",
   "metadata": {},
   "outputs": [],
   "source": [
    "# Specify location of the file we want to open\n",
    "\n",
    "# For list of tutorial files check out []\n",
    "inputfile = \"/tutorial_files/merged_dlreco_mcc9_v13_bnbnue_corsika_run00001_subrun00001.root\""
   ]
  },
  {
   "cell_type": "code",
   "execution_count": null,
   "id": "455b01cc",
   "metadata": {},
   "outputs": [],
   "source": [
    "# Use ROOT to dump the data of the file\n",
    "# you'll see a lot of TTree objects. \n",
    "# These are essentially tables of data with a specific schema, \n",
    "#   with each row of data consisting of one \"event\".\n",
    "\n",
    "rfile = rt.TFile(inputfile,\"open\")\n",
    "rfile.ls()"
   ]
  },
  {
   "cell_type": "markdown",
   "id": "6b51cbcf",
   "metadata": {},
   "source": [
    "We do not access the data (i.e. Trees) directly). The ROOT trees store data in the form of serialized instances of custom C++ classes! In otherwords, for each event, copies of C++ classes are turned into a binary string, storing the values of its data members. Unpacking this involves de-serializing the class data and giving back a set of C++ class instances for each event. We have special classes of our own that interfaces with ROOT's IO functions to help us do this.\n",
    "\n",
    "For this notebook, we are after `image2d` objects, which store the wireplane data."
   ]
  },
  {
   "cell_type": "code",
   "execution_count": null,
   "id": "e868736f",
   "metadata": {},
   "outputs": [],
   "source": [
    "# We use the larcv IOManager class to load the trees for us.\n",
    "\n",
    "# Initialize an IOManager instance that will read out input file\n",
    "io = larcv.IOManager( larcv.IOManager.kREAD, \"larcv\", larcv.IOManager.kTickBackward )\n",
    "io.add_in_file( inputfile )\n",
    "io.reverse_all_products()\n",
    "io.initialize()\n",
    "\n"
   ]
  },
  {
   "cell_type": "code",
   "execution_count": null,
   "id": "eb2ed0b9",
   "metadata": {},
   "outputs": [],
   "source": [
    "# Now we load an event\n",
    "\n",
    "ENTRY_NUM = 0\n",
    "io.read_entry(ENTRY_NUM)\n"
   ]
  },
  {
   "cell_type": "code",
   "execution_count": null,
   "id": "37ab98c9",
   "metadata": {},
   "outputs": [],
   "source": [
    "# Get the images from the tree storing the wireplane images\n",
    "\n",
    "# we retrieve a container with all the wireplane images for the event\n",
    "event_image_data = io.get_data( larcv.kProductImage2D, \"wire\" )\n",
    "\n",
    "# we get a std::vector<larcv::Image2D> object that has the data\n",
    "adc_v = event_image_data.as_vector()\n",
    "\n",
    "# print the number of images in the vector\n",
    "# usually, if this is a MicroBooNE file you should get 3 images: one for each wireplane U, V, and Y.\n",
    "print(\"number of images in this event: \",adc_v.size())"
   ]
  },
  {
   "cell_type": "code",
   "execution_count": null,
   "id": "8751039f",
   "metadata": {},
   "outputs": [],
   "source": [
    "# plot the first image using plotly\n",
    "\n",
    "PLANE = 0 # options are 0,1, or 2 for the U,V,Y plane\n",
    "plane_image = adc_v.at(PLANE)\n",
    "plane_plot = lardly.data.visualize_larcv_image2d( plane_image, reverse_ticks=True )\n",
    "\n",
    "# plotly figure\n",
    "fig = go.Figure( data=[plane_plot] )\n",
    "fig.show()\n",
    "\n",
    "## If opening the tutorial file, merged_dlreco_mcc9_v13_bnbnue_corsika_run00001_subrun00001.root,\n",
    "## the image should be of a Charged-Current Electron Neutrino Interaction\n",
    "## If on the U-plane, the neutrino interaction vertex is around (1650,5328)"
   ]
  },
  {
   "cell_type": "code",
   "execution_count": null,
   "id": "bc6c7a17",
   "metadata": {},
   "outputs": [],
   "source": []
  }
 ],
 "metadata": {
  "kernelspec": {
   "display_name": "Python 3 (ipykernel)",
   "language": "python",
   "name": "python3"
  },
  "language_info": {
   "codemirror_mode": {
    "name": "ipython",
    "version": 3
   },
   "file_extension": ".py",
   "mimetype": "text/x-python",
   "name": "python",
   "nbconvert_exporter": "python",
   "pygments_lexer": "ipython3",
   "version": "3.9.7"
  }
 },
 "nbformat": 4,
 "nbformat_minor": 5
}
