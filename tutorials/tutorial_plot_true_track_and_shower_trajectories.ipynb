{
 "cells": [
  {
   "cell_type": "markdown",
   "id": "cf849521",
   "metadata": {},
   "source": [
    "This notebook shows how to access the truth trajectory information for each event.\n",
    "\n",
    "This information is extracted from the simulation and is available to help quantify the accuracy and precision of our reconstruction and analysis algorithms.\n",
    "\n",
    "We also show how to project that information into the wireplane images. This provides and overview of the different \"times\" that we deal with in the experiment."
   ]
  },
  {
   "cell_type": "code",
   "execution_count": null,
   "id": "476caabd",
   "metadata": {},
   "outputs": [],
   "source": [
    "import os,sys\n",
    "import plotly as pl\n",
    "import plotly.graph_objects as go\n",
    "%load_ext autoreload\n",
    "%autoreload 2"
   ]
  },
  {
   "cell_type": "code",
   "execution_count": null,
   "id": "79766476",
   "metadata": {},
   "outputs": [],
   "source": [
    "# on trex, for some reason, need to load ROOT in separate cell before loading icdl modules\n",
    "import ROOT as rt"
   ]
  },
  {
   "cell_type": "code",
   "execution_count": null,
   "id": "0212ffde",
   "metadata": {},
   "outputs": [],
   "source": [
    "from larlite import larlite\n",
    "from larcv import larcv\n",
    "from ublarcvapp import ublarcvapp\n",
    "from larlite import larutil\n",
    "import lardly"
   ]
  },
  {
   "cell_type": "markdown",
   "id": "0be821f6",
   "metadata": {},
   "source": [
    "Below we specify the location of the file we want to use.\n",
    "\n",
    "For a list of example files, refer to this [list](https://github.com/NuTufts/icdl/wiki/Locations-of-Tutorial-Files)."
   ]
  },
  {
   "cell_type": "code",
   "execution_count": null,
   "id": "242412c6",
   "metadata": {},
   "outputs": [],
   "source": [
    "# Specify location of the file we want to open\n",
    "\n",
    "# For list of tutorial files check out []\n",
    "#inputfile = \"/tutorial_files/merged_dlreco_mcc9_v13_bnbnue_corsika_run00001_subrun00001.root\"\n",
    "inputfile = \"/home/twongjirad/working/data/mcc9_v13_bnbnue_corsika/merged_dlreco_mcc9_v13_bnbnue_corsika_run00001_subrun00001.root\""
   ]
  },
  {
   "cell_type": "code",
   "execution_count": null,
   "id": "03c4ce42",
   "metadata": {},
   "outputs": [],
   "source": [
    "# Use ROOT to dump the data of the file\n",
    "# you'll see a lot of TTree objects. \n",
    "# These are essentially tables of data with a specific schema, \n",
    "#   with each row of data consisting of one \"event\".\n",
    "\n",
    "# For this tutorial we'll need the following TTree(s)\n",
    "# * mctrack_mcreco_tree\n",
    "# * mcshower_mcreco_tree\n",
    "\n",
    "rfile = rt.TFile(inputfile,\"open\")\n",
    "rfile.ls()"
   ]
  },
  {
   "cell_type": "markdown",
   "id": "8017592f",
   "metadata": {},
   "source": [
    "We do not access the data (i.e. Trees) directly). The ROOT trees store data in the form of serialized instances of custom C++ classes! In otherwords, for each event, copies of C++ classes are turned into a binary string, storing the values of its data members. Unpacking this involves de-serializing the class data and giving back a set of C++ class instances for each event. We have special classes of our own that interfaces with ROOT's IO functions to help us do this.\n",
    "\n",
    "There is two we need to use.\n",
    "\n",
    "The first is `larlite::storage_manager` which interfaces data products from larlite, which is a clone of the data products from larsoft. (Why do we use larlite and not larsoft directly? larlite does not require the large number of dependencies that are hard to build on systems that are not on Fermilab.)\n",
    "\n",
    "The second is `larcv::IOManager` which provides the interface to the images, which we'll use at the end of the notebook."
   ]
  },
  {
   "cell_type": "code",
   "execution_count": null,
   "id": "a5a9dac6",
   "metadata": {},
   "outputs": [],
   "source": [
    "# We use the larcv IOManager class to load the trees for us.\n",
    "\n",
    "# Initialize an storage_manager instance that will read out input file\n",
    "ioll = larlite.storage_manager( larlite.storage_manager.kREAD )\n",
    "ioll.add_in_filename( inputfile )\n",
    "ioll.open()\n",
    "\n",
    "# Initialize an IOManager instance that will read out input file\n",
    "iolcv = larcv.IOManager( larcv.IOManager.kREAD, \"larcv\", larcv.IOManager.kTickBackward )\n",
    "iolcv.add_in_file( inputfile )\n",
    "iolcv.reverse_all_products()\n",
    "iolcv.initialize()\n",
    "\n"
   ]
  },
  {
   "cell_type": "code",
   "execution_count": null,
   "id": "7f39df04",
   "metadata": {},
   "outputs": [],
   "source": [
    "# Now we load an event\n",
    "\n",
    "ENTRY_NUM = 0\n",
    "ioll.go_to(ENTRY_NUM)\n",
    "iolcv.read_entry(ENTRY_NUM)\n"
   ]
  },
  {
   "cell_type": "code",
   "execution_count": null,
   "id": "572212f1",
   "metadata": {},
   "outputs": [],
   "source": [
    "# Get the containers holding the mctrack and mcshower objects\n",
    "\n",
    "event_mctrack  = ioll.get_data( larlite.data.kMCTrack,  \"mcreco\" )\n",
    "event_mcshower = ioll.get_data( larlite.data.kMCShower, \"mcreco\" )\n",
    "\n",
    "print(\"Number of mctracks: \",event_mctrack.size())\n",
    "print(\"Number of mcshowers: \",event_mcshower.size())"
   ]
  },
  {
   "cell_type": "code",
   "execution_count": null,
   "id": "7871920c",
   "metadata": {},
   "outputs": [],
   "source": [
    "# Because we'll need to orient the information within the geometry of the MicroBooNE detector,\n",
    "# we need to activate it.\n",
    "larutil.LArUtilConfig.SetDetector( larlite.geo.kMicroBooNE )\n"
   ]
  },
  {
   "cell_type": "code",
   "execution_count": null,
   "id": "fdf04121",
   "metadata": {
    "scrolled": true
   },
   "outputs": [],
   "source": [
    "# Before we vizualize this information, we can dump out this information\n",
    "# We can use a utility that will try to arrange the list of tracks and showers\n",
    "# by their mother-daughter relationship\n",
    "\n",
    "# warning, its a bit of a mess\n",
    "\n",
    "mcpg = ublarcvapp.mctools.MCPixelPGraph()\n",
    "mcpg.buildgraphonly( ioll )\n",
    "mcpg.printGraph(0, False)"
   ]
  },
  {
   "cell_type": "code",
   "execution_count": null,
   "id": "189b8918",
   "metadata": {},
   "outputs": [],
   "source": [
    "import lardly\n",
    "from lardly.detectoroutline import get_tpc_boundary_plot\n",
    "\n",
    "tpclines = get_tpc_boundary_plot()\n"
   ]
  },
  {
   "cell_type": "code",
   "execution_count": null,
   "id": "1f4ad6e0",
   "metadata": {},
   "outputs": [],
   "source": [
    "## Run this block if you want to draw just the TPC plot that we retrieved\n",
    "\n",
    "axis_template = {\n",
    "    \"showbackground\": True,\n",
    "    \"backgroundcolor\": \"rgba(10,10,10,0.1)\",\n",
    "    \"gridcolor\": \"rgb(10, 10, 10,0.2)\",\n",
    "    \"zerolinecolor\": \"rgb(10,10,10,0.4)\",\n",
    "}\n",
    "\n",
    "plot_layout = {\n",
    "    \"title\": \"\",\n",
    "    \"height\":800,\n",
    "    \"margin\": {\"t\": 0, \"b\": 0, \"l\": 0, \"r\": 0},\n",
    "    \"font\": {\"size\": 12, \"color\": \"black\"},\n",
    "    \"showlegend\": False,\n",
    "    \"plot_bgcolor\": \"white\",\n",
    "    \"paper_bgcolor\": \"white\",\n",
    "    \"scene\": {\n",
    "        \"xaxis\": axis_template,\n",
    "        \"yaxis\": axis_template,\n",
    "        \"zaxis\": axis_template,\n",
    "        \"aspectratio\": {\"x\": 1, \"y\": 1, \"z\": 3},\n",
    "        \"camera\": {\"eye\": {\"x\": 3, \"y\": 2, \"z\": 2},\n",
    "                   \"up\":dict(x=0, y=1, z=0)},\n",
    "        \"annotations\": [],\n",
    "    },\n",
    "}\n",
    "\n",
    "fig = go.Figure( data=[tpclines], layout=plot_layout )\n",
    "fig.show()"
   ]
  },
  {
   "cell_type": "markdown",
   "id": "d7421886",
   "metadata": {},
   "source": [
    "Below we'll plot the Truth track trajectories. \n",
    "\n",
    "In the lardly code, the following color scheme is used:\n",
    "\n",
    "```\n",
    "default_pid_colors = {2212:'rgb(153,55,255)', # protons                                       \n",
    "                      13:'rgb(255,0,0)', # muons                               \n",
    "                      -13:'rgb(255,0,0)', # muons                          \n",
    "                      211:'rgb(255,128,255)',# pions                       \n",
    "                      -211:'rgb(255,128,255)',# pions                      \n",
    "                      0:'rgb(0,0,0)'# other                                  \n",
    "                      }\n",
    "```\n",
    "\n",
    "What you should notice is that all the tracks are inside the TPC.\n",
    "This is because only true trajectory information is saved inside the TPC\n",
    "(exception is the creation origin) which is kept somewhere in the mctrack object.\n",
    "\n",
    "The code that takes a container of mctrack objects and returns respective plot objects is\n",
    "\n",
    "```\n",
    "lardly.data.visualize_larlite_event_mctrack( event_mctrack, apply_t0_offset=False )\n",
    "```\n",
    "\n",
    "Note that `apply_t0_offset=False`."
   ]
  },
  {
   "cell_type": "code",
   "execution_count": null,
   "id": "05e75f89",
   "metadata": {},
   "outputs": [],
   "source": [
    "# make plot objects for the track objects\n",
    "\n",
    "plot_mctracks = lardly.data.visualize_larlite_event_mctrack( event_mctrack, apply_t0_offset=False )\n",
    "\n",
    "\n",
    "\n",
    "axis_template = {\n",
    "    \"showbackground\": True,\n",
    "    \"backgroundcolor\": \"rgba(10,10,10,0.1)\",\n",
    "    \"gridcolor\": \"rgb(10, 10, 10,0.2)\",\n",
    "    \"zerolinecolor\": \"rgb(10,10,10,0.4)\",\n",
    "}\n",
    "\n",
    "plot_layout = {\n",
    "    \"title\": \"\",\n",
    "    \"height\":800,\n",
    "    \"margin\": {\"t\": 0, \"b\": 0, \"l\": 0, \"r\": 0},\n",
    "    \"font\": {\"size\": 12, \"color\": \"black\"},\n",
    "    \"showlegend\": False,\n",
    "    \"plot_bgcolor\": \"white\",\n",
    "    \"paper_bgcolor\": \"white\",\n",
    "    \"scene\": {\n",
    "        \"xaxis\": axis_template,\n",
    "        \"yaxis\": axis_template,\n",
    "        \"zaxis\": axis_template,\n",
    "        \"aspectratio\": {\"x\": 1, \"y\": 1, \"z\": 3},\n",
    "        \"camera\": {\"eye\": {\"x\": 3, \"y\": 2, \"z\": 2},\n",
    "                   \"up\":dict(x=0, y=1, z=0)},\n",
    "        \"annotations\": [],\n",
    "    },\n",
    "}\n",
    "\n",
    "fig = go.Figure( data=[tpclines]+plot_mctracks, layout=plot_layout )\n",
    "fig.show()\n"
   ]
  },
  {
   "cell_type": "markdown",
   "id": "323dcf28",
   "metadata": {},
   "source": [
    "Now we remake the track objects, but set `apply_t0_offset=False`.\n",
    "\n",
    "What you'll see is that the tracks are now outside the TPC.\n",
    "This has to do with the way we measure and reconstruct\n",
    "the time of trajectories in the detector.\n"
   ]
  },
  {
   "cell_type": "code",
   "execution_count": null,
   "id": "633e6a75",
   "metadata": {},
   "outputs": [],
   "source": [
    "# make plot objects for the track objects\n",
    "\n",
    "plot_mctracks = lardly.data.visualize_larlite_event_mctrack( event_mctrack, apply_t0_offset=True )\n",
    "\n",
    "\n",
    "axis_template = {\n",
    "    \"showbackground\": True,\n",
    "    \"backgroundcolor\": \"rgba(10,10,10,0.1)\",\n",
    "    \"gridcolor\": \"rgb(10, 10, 10,0.2)\",\n",
    "    \"zerolinecolor\": \"rgb(10,10,10,0.4)\",\n",
    "}\n",
    "\n",
    "plot_layout = {\n",
    "    \"title\": \"\",\n",
    "    \"height\":800,\n",
    "    \"margin\": {\"t\": 0, \"b\": 0, \"l\": 0, \"r\": 0},\n",
    "    \"font\": {\"size\": 12, \"color\": \"black\"},\n",
    "    \"showlegend\": False,\n",
    "    \"plot_bgcolor\": \"white\",\n",
    "    \"paper_bgcolor\": \"white\",\n",
    "    \"scene\": {\n",
    "        \"xaxis\": axis_template,\n",
    "        \"yaxis\": axis_template,\n",
    "        \"zaxis\": axis_template,\n",
    "        \"aspectratio\": {\"x\": 2, \"y\": 1, \"z\": 3},\n",
    "        \"camera\": {\"eye\": {\"x\": 3, \"y\": 2, \"z\": 2},\n",
    "                   \"up\":dict(x=0, y=1, z=0)},\n",
    "        \"annotations\": [],\n",
    "    },\n",
    "}\n",
    "\n",
    "fig = go.Figure( data=[tpclines]+plot_mctracks, layout=plot_layout )\n",
    "fig.show()\n"
   ]
  },
  {
   "cell_type": "markdown",
   "id": "492accfb",
   "metadata": {},
   "source": [
    "# DAQ and Timing in the TPC\n",
    "\n",
    "To understand the timing in the detector, we need to describe how the data is saved.\n",
    "\n",
    "There are electronics that continually stores a rolling queue of voltage versus time measurements.\n",
    "\n",
    "The time between samples (sometimes called ticks) is determined by the electronics clock used. For MicroBooNE, the data acquisition system  (or DAQ) used to record the voltage versus time on all the wires saves a sample every 0.5 microseconds, i.e. 0.5 microseconds per tick.\n",
    "There is some amount of stored values in the electronics. Values are replaced in a First-In-First-Out (FIFO) manner.\n",
    "\n",
    "Every so often, a signal is sent to the electronics to save the stored values to disk.\n",
    "This signal is called the trigger.\n",
    "We use a number of different triggers. \n",
    "The primary one is a signal that comes a little bit ahead of when the neutrino beam will arrive.\n",
    "\n",
    "The saved data is arranged in time order and a window of data is defined. \n",
    "This is how the data is arranged from MicroBooNE.\n",
    "The tick that occured at the same time of the trigger is positioned to always be at `tick=3200`.\n",
    "The range of samples stored goes from 3200 ticks before the trigger and 6400 ticks after the trigger to a total window size of 9600 ticks.\n",
    "In order to save space, MicroBooNE in the first process of data processing removes the first 2400 ticks and 1152 ticks at the end for a truncated 6448 tick window.\n",
    "\n",
    "In our code library, we retain this 2400-8448 tick range as the \"coordinate\" for the time axis of the image data.\n",
    "In otherwords, we say the first \"row\" of the image is at tick=2400 and the last row ends at tick=8448.\n",
    "\n",
    "Ionization left behind by charged particles in the detector arrive at the wireplanes and makes a signal in the electronics and thereby the image.  However, before the ionization arrives at the wireplane, the ionization must first drift from the location it was created to the wireplanes. Assuming a constant velocity (a first-order approximation we often use), the between the particle actually traveled the detector and the time the ionization shows up in the image is `(distance from wireplanes)/(drift velocity)`. The drift velocity depends on the electric field used in the detector. For MicroBooNE the drift velocity was measured to be around 0.111 cm per microseconds.\n",
    "\n",
    "The original time of the trajectory (in others the real time) is known as the `t0` of the trajectory.\n",
    "The `t0_offset` is the drift time or `(distance from wireplanes)/(drift velocity)`.  So the time that the signal appears on the wire plane is `t = t0 + t0_offset`.\n",
    "\n",
    "So how can we find out this offset? Well, we actually are able to measure the original time of a trajectory.\n",
    "In addition to ionization, most trajectories will produce a sizable flash of scintillation light that is seen in the optical detectors.  The time of the event can be measured potentially by the light is at the nanoseconds level.  However, associating flashes of light in the optical system to the charged trajectories is not an easy task and is not something we can do at the start.  You first have to decide what signals or pixels in an image are due trajectories occuring nearly at the same time.  Then you need to match that spatial pattern of ionization with the amount and spatial pattern of light signals in the optical detectors.  As a result, the `t0_offset` for a trajectory cannot be subtracted out until the middle or later portions of the reconstrucion.\n",
    "\n",
    "Therefore, we often set the time of a trajectory as simply the relative to the original `tick=3200` event trigger.\n",
    "And given that time offset, we use the const drift velocity to position the track in the detector. \n",
    "\n",
    "This is all to explain why when we plot the truth trajectories using the `apply_t0_offset` flag, the tracks are outside the TPC. This is because their timing (and equivalently) their position is all relative to `tick=3200`.\n",
    "Plotting the true trajectories this way is useful for comparing against reconstruction trajectories before a `t0_offset` can be applied.\n"
   ]
  },
  {
   "cell_type": "code",
   "execution_count": null,
   "id": "8efea9d3",
   "metadata": {},
   "outputs": [],
   "source": [
    "# get detector outlines\n",
    "\n",
    "PLANE = 0 # options are 0,1, or 2 for the U,V,Y plane\n",
    "plane_image = adc_v.at(PLANE)\n",
    "plane_plot = lardly.data.visualize_larcv_image2d( plane_image, reverse_ticks=True )\n",
    "\n",
    "# plotly figure\n",
    "fig = go.Figure( data=[plane_plot] )\n",
    "fig.show()\n",
    "\n",
    "## If opening the tutorial file, merged_dlreco_mcc9_v13_bnbnue_corsika_run00001_subrun00001.root,\n",
    "## the image should be of a Charged-Current Electron Neutrino Interaction\n",
    "## If on the U-plane, the neutrino interaction vertex is around (1650,5328)"
   ]
  },
  {
   "cell_type": "markdown",
   "id": "8024afb9",
   "metadata": {},
   "source": [
    "For more information on the classes, please follow the links below.\n",
    "\n",
    "Used in this tutorial:\n",
    "\n",
    "* [larcv::IOManager](https://github.com/LArbys/LArCV/blob/develop/larcv/core/DataFormat/IOManager.h)\n",
    "* [larcv::Image2D](https://github.com/LArbys/LArCV/blob/develop/larcv/core/DataFormat/Image2D\n",
    ".h)\n",
    "* [plotly heatmap](https://plotly.com/python/heatmaps/)"
   ]
  },
  {
   "cell_type": "code",
   "execution_count": null,
   "id": "e18efa3b",
   "metadata": {},
   "outputs": [],
   "source": []
  }
 ],
 "metadata": {
  "kernelspec": {
   "display_name": "Python 3 (ipykernel)",
   "language": "python",
   "name": "python3"
  },
  "language_info": {
   "codemirror_mode": {
    "name": "ipython",
    "version": 3
   },
   "file_extension": ".py",
   "mimetype": "text/x-python",
   "name": "python",
   "nbconvert_exporter": "python",
   "pygments_lexer": "ipython3",
   "version": "3.9.7"
  }
 },
 "nbformat": 4,
 "nbformat_minor": 5
}
