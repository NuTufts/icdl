{
 "cells": [
  {
   "cell_type": "code",
   "execution_count": null,
   "id": "9e69a95f",
   "metadata": {},
   "outputs": [],
   "source": [
    "from __future__ import print_function\n",
    "import os,sys\n",
    "import ROOT as rt\n",
    "from larlite import larlite\n",
    "import chart_studio.plotly as py\n",
    "import plotly.graph_objects as go\n",
    "import numpy as np"
   ]
  },
  {
   "cell_type": "code",
   "execution_count": null,
   "id": "fe57902e",
   "metadata": {},
   "outputs": [],
   "source": [
    "ioll = larlite.storage_manager(larlite.storage_manager.kREAD)\n",
    "ioll.add_in_filename(\"out_spacepoints.root\")\n",
    "ioll.open()\n",
    "ioll.go_to(0)\n",
    "ev_hit = ioll.get_data(larlite.data.kLArFlow3DHit,\"spacepoints\")\n",
    "print(\"num spacepoints: \",ev_hit.size())"
   ]
  },
  {
   "cell_type": "code",
   "execution_count": null,
   "id": "19c8e3c2",
   "metadata": {},
   "outputs": [],
   "source": [
    "geo = larlite.larutil.Geometry.GetME(larlite.geo.kICARUS)\n",
    "#geo = larlite.larutil.Geometry.GetME(larlite.geo.kMicroBooNE)\n",
    "#geo = larlite.larutil.Geometry.GetME(larlite.geo.kSBND)"
   ]
  },
  {
   "cell_type": "code",
   "execution_count": null,
   "id": "443e1607",
   "metadata": {},
   "outputs": [],
   "source": [
    "pos = np.zeros( (ev_hit.size(),3))\n",
    "for ihit in range(ev_hit.size()):\n",
    "    hit = ev_hit.at(ihit)\n",
    "    for i in range(3):\n",
    "        pos[ihit,i] = hit[i]\n",
    "        \n",
    "pos_plot = go.Scatter3d( x=pos[:,0], y=pos[:,1], z=pos[:,2], mode=\"markers\", name=\"pos\", marker={\"size\":1} )    \n",
    "\n",
    "axis_template = {\n",
    "    \"showbackground\": True,\n",
    "    \"backgroundcolor\": \"rgba(100, 100, 100,0.5)\",\n",
    "    \"gridcolor\": \"rgb(50, 50, 50)\",\n",
    "    \"zerolinecolor\": \"rgb(0, 0, 0)\",\n",
    "}\n",
    "\n",
    "\n",
    "layout = go.Layout(\n",
    "    title='DETECTOR TPC',\n",
    "    autosize=True,\n",
    "    hovermode='closest',\n",
    "    showlegend=False,\n",
    "    scene= {\n",
    "        \"xaxis\": axis_template,\n",
    "        \"yaxis\": axis_template,\n",
    "        \"zaxis\": axis_template,\n",
    "        \"aspectratio\": {\"x\": 1, \"y\": 1, \"z\": 2},\n",
    "        \"camera\": {\"eye\": {\"x\": -3, \"y\": 0.1, \"z\": 0.0},\n",
    "                   \"center\":dict(x=0, y=0, z=0),\n",
    "                   \"up\":dict(x=0, y=1, z=0)},\n",
    "        \"annotations\": [],\n",
    "    }\n",
    ")\n",
    "\n",
    "fig = go.Figure(data=[pos_plot], layout=layout)\n",
    "fig.show()\n",
    " "
   ]
  },
  {
   "cell_type": "code",
   "execution_count": null,
   "id": "75a1791d",
   "metadata": {},
   "outputs": [],
   "source": []
  }
 ],
 "metadata": {
  "kernelspec": {
   "display_name": "Python 3 (ipykernel)",
   "language": "python",
   "name": "python3"
  },
  "language_info": {
   "codemirror_mode": {
    "name": "ipython",
    "version": 3
   },
   "file_extension": ".py",
   "mimetype": "text/x-python",
   "name": "python",
   "nbconvert_exporter": "python",
   "pygments_lexer": "ipython3",
   "version": "3.9.7"
  }
 },
 "nbformat": 4,
 "nbformat_minor": 5
}
