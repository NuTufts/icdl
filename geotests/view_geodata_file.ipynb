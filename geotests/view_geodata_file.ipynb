{
 "cells": [
  {
   "cell_type": "code",
   "execution_count": null,
   "id": "9e69a95f",
   "metadata": {},
   "outputs": [],
   "source": [
    "from __future__ import print_function\n",
    "import os,sys\n",
    "import ROOT as rt\n",
    "from larlite import larlite\n",
    "import chart_studio.plotly as py\n",
    "import plotly.graph_objects as go\n",
    "import numpy as np"
   ]
  },
  {
   "cell_type": "code",
   "execution_count": null,
   "id": "fe57902e",
   "metadata": {},
   "outputs": [],
   "source": [
    "f = rt.TFile(\"icarus_larlite_geodata.root\")\n",
    "t = f.Get(\"geodata\")"
   ]
  },
  {
   "cell_type": "code",
   "execution_count": null,
   "id": "04841ed1",
   "metadata": {},
   "outputs": [],
   "source": [
    "t.GetEntry(0)"
   ]
  },
  {
   "cell_type": "code",
   "execution_count": null,
   "id": "7429f94c",
   "metadata": {},
   "outputs": [],
   "source": [
    "t.cryo_v.at(0)"
   ]
  },
  {
   "cell_type": "code",
   "execution_count": null,
   "id": "618a059d",
   "metadata": {},
   "outputs": [],
   "source": [
    "def get_tpc_bounds(cryo_v,color=(0,0,0)):\n",
    "    tpc_plots = []\n",
    "    for icryo in range(cryo_v.size()):\n",
    "        cryogeo = cryo_v.at(icryo)\n",
    "        ntpcs = cryogeo.tpc_v.size()\n",
    "        for itpc in range(ntpcs):\n",
    "            #print(\"tpc[%d]\"%(itpc))\n",
    "            # the four faces\n",
    "            tpcgeo = cryogeo.tpc_v.at(itpc)\n",
    "            bounds = np.zeros((3,2))\n",
    "            for i in range(3):\n",
    "                bounds[i,0] = tpcgeo.fBounds.at(0)(i)\n",
    "                bounds[i,1] = tpcgeo.fBounds.at(1)(i)\n",
    "            #print(bounds)\n",
    "            top_pts  = [ [bounds[0,0],bounds[1,1], bounds[2,0]],\n",
    "                          [bounds[0,1],bounds[1,1], bounds[2,0]],\n",
    "                          [bounds[0,1],bounds[1,1], bounds[2,1]],\n",
    "                          [bounds[0,0],bounds[1,1], bounds[2,1]],\n",
    "                          [bounds[0,0],bounds[1,1], bounds[2,0]] ]\n",
    "            bot_pts  = [ [bounds[0,0],bounds[1,0], bounds[2,0]],\n",
    "                          [bounds[0,1],bounds[1,0], bounds[2,0]],\n",
    "                          [bounds[0,1],bounds[1,0], bounds[2,1]],\n",
    "                          [bounds[0,0],bounds[1,0], bounds[2,1]],\n",
    "                          [bounds[0,0],bounds[1,0], bounds[2,0]] ]\n",
    "            up_pts   = [ [bounds[0,0],bounds[1,0], bounds[2,0]],\n",
    "                          [bounds[0,1],bounds[1,0], bounds[2,0]],\n",
    "                          [bounds[0,1],bounds[1,1], bounds[2,0]],\n",
    "                          [bounds[0,0],bounds[1,1], bounds[2,0]],\n",
    "                          [bounds[0,0],bounds[1,0], bounds[2,0]] ]\n",
    "            down_pts = [ [bounds[0,0],bounds[1,0], bounds[2,1]],\n",
    "                          [bounds[0,1],bounds[1,0], bounds[2,1]],\n",
    "                          [bounds[0,1],bounds[1,1], bounds[2,1]],\n",
    "                          [bounds[0,0],bounds[1,1], bounds[2,1]],\n",
    "                          [bounds[0,0],bounds[1,0], bounds[2,1]] ]        \n",
    "            \n",
    "            Xe = []\n",
    "            Ye = []\n",
    "            Ze = []\n",
    "\n",
    "            for boundary in [top_pts,bot_pts,up_pts,down_pts]:\n",
    "                for ipt, pt in enumerate(boundary):\n",
    "                    Xe.append( pt[0] )\n",
    "                    Ye.append( pt[1] )\n",
    "                    Ze.append( pt[2] )\n",
    "                Xe.append(None)\n",
    "                Ye.append(None)\n",
    "                Ze.append(None)\n",
    "            lines = {\n",
    "                \"type\": \"scatter3d\",\n",
    "                \"x\": Xe,\n",
    "                \"y\": Ye,\n",
    "                \"z\": Ze,\n",
    "                \"mode\": \"lines\",\n",
    "                \"name\": \"\",\n",
    "                \"line\": {\"color\": \"rgb(%d,%d,%d)\"%color, \"width\": 5},\n",
    "            }\n",
    "            tpc_plots.append(lines)\n",
    "    return tpc_plots\n"
   ]
  },
  {
   "cell_type": "code",
   "execution_count": null,
   "id": "0c678226",
   "metadata": {},
   "outputs": [],
   "source": [
    "detlines = get_tpc_bounds(t.cryo_v)"
   ]
  },
  {
   "cell_type": "code",
   "execution_count": null,
   "id": "443e1607",
   "metadata": {},
   "outputs": [],
   "source": [
    "axis_template = {\n",
    "    \"showbackground\": True,\n",
    "    \"backgroundcolor\": \"rgba(100, 100, 100,0.5)\",\n",
    "    \"gridcolor\": \"rgb(50, 50, 50)\",\n",
    "    \"zerolinecolor\": \"rgb(0, 0, 0)\",\n",
    "}\n",
    "\n",
    "\n",
    "layout = go.Layout(\n",
    "    title='ICARUS TPC',\n",
    "    autosize=True,\n",
    "    hovermode='closest',\n",
    "    showlegend=False,\n",
    "    scene= {\n",
    "        \"xaxis\": axis_template,\n",
    "        \"yaxis\": axis_template,\n",
    "        \"zaxis\": axis_template,\n",
    "        \"aspectratio\": {\"x\": 2, \"y\": 1, \"z\": 3},\n",
    "        \"camera\": {\"eye\": {\"x\": -3, \"y\": 0.1, \"z\": 0.0},\n",
    "                   \"center\":dict(x=0, y=0, z=0),\n",
    "                   \"up\":dict(x=0, y=1, z=0)},\n",
    "        \"annotations\": [],\n",
    "    }\n",
    ")\n",
    "\n",
    "fig = go.Figure(data=detlines, layout=layout)\n",
    "fig.show()\n",
    " "
   ]
  },
  {
   "cell_type": "code",
   "execution_count": null,
   "id": "75a1791d",
   "metadata": {},
   "outputs": [],
   "source": []
  }
 ],
 "metadata": {
  "kernelspec": {
   "display_name": "Python 3 (ipykernel)",
   "language": "python",
   "name": "python3"
  },
  "language_info": {
   "codemirror_mode": {
    "name": "ipython",
    "version": 3
   },
   "file_extension": ".py",
   "mimetype": "text/x-python",
   "name": "python",
   "nbconvert_exporter": "python",
   "pygments_lexer": "ipython3",
   "version": "3.9.7"
  }
 },
 "nbformat": 4,
 "nbformat_minor": 5
}
